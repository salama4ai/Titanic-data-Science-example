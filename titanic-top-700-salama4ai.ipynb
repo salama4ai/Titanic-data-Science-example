{
 "cells": [
  {
   "cell_type": "markdown",
   "id": "bd899c77",
   "metadata": {
    "papermill": {
     "duration": 0.041486,
     "end_time": "2021-10-12T18:25:00.702378",
     "exception": false,
     "start_time": "2021-10-12T18:25:00.660892",
     "status": "completed"
    },
    "tags": []
   },
   "source": [
    "# **Please UPVOTE The notebook**"
   ]
  },
  {
   "cell_type": "code",
   "execution_count": 1,
   "id": "65df3f45",
   "metadata": {
    "_cell_guid": "b1076dfc-b9ad-4769-8c92-a6c4dae69d19",
    "_uuid": "8f2839f25d086af736a60e9eeb907d3b93b6e0e5",
    "execution": {
     "iopub.execute_input": "2021-10-12T18:25:00.794782Z",
     "iopub.status.busy": "2021-10-12T18:25:00.793741Z",
     "iopub.status.idle": "2021-10-12T18:25:00.800410Z",
     "shell.execute_reply": "2021-10-12T18:25:00.799588Z",
     "shell.execute_reply.started": "2021-10-12T18:07:36.581855Z"
    },
    "papermill": {
     "duration": 0.060287,
     "end_time": "2021-10-12T18:25:00.800609",
     "exception": false,
     "start_time": "2021-10-12T18:25:00.740322",
     "status": "completed"
    },
    "tags": []
   },
   "outputs": [
    {
     "name": "stdout",
     "output_type": "stream",
     "text": [
      "/kaggle/input/titanic/train.csv\n",
      "/kaggle/input/titanic/test.csv\n",
      "/kaggle/input/titanic/gender_submission.csv\n"
     ]
    }
   ],
   "source": [
    "# This Python 3 environment comes with many helpful analytics libraries installed\n",
    "# It is defined by the kaggle/python Docker image: https://github.com/kaggle/docker-python\n",
    "# For example, here's several helpful packages to load\n",
    "\n",
    "import numpy as np # linear algebra\n",
    "import pandas as pd # data processing, CSV file I/O (e.g. pd.read_csv)\n",
    "\n",
    "# Input data files are available in the read-only \"../input/\" directory\n",
    "# For example, running this (by clicking run or pressing Shift+Enter) will list all files under the input directory\n",
    "\n",
    "import os\n",
    "for dirname, _, filenames in os.walk('/kaggle/input'):\n",
    "    for filename in filenames:\n",
    "        print(os.path.join(dirname, filename))\n",
    "\n",
    "# You can write up to 20GB to the current directory (/kaggle/working/) that gets preserved as output when you create a version using \"Save & Run All\" \n",
    "# You can also write temporary files to /kaggle/temp/, but they won't be saved outside of the current session"
   ]
  },
  {
   "cell_type": "markdown",
   "id": "6b337898",
   "metadata": {
    "papermill": {
     "duration": 0.038302,
     "end_time": "2021-10-12T18:25:00.876811",
     "exception": false,
     "start_time": "2021-10-12T18:25:00.838509",
     "status": "completed"
    },
    "tags": []
   },
   "source": [
    "#### import libraries, and load data"
   ]
  },
  {
   "cell_type": "code",
   "execution_count": 2,
   "id": "f7e841ae",
   "metadata": {
    "execution": {
     "iopub.execute_input": "2021-10-12T18:25:00.957926Z",
     "iopub.status.busy": "2021-10-12T18:25:00.957176Z",
     "iopub.status.idle": "2021-10-12T18:25:02.533634Z",
     "shell.execute_reply": "2021-10-12T18:25:02.533028Z",
     "shell.execute_reply.started": "2021-10-12T18:19:54.982690Z"
    },
    "papermill": {
     "duration": 1.619934,
     "end_time": "2021-10-12T18:25:02.533826",
     "exception": false,
     "start_time": "2021-10-12T18:25:00.913892",
     "status": "completed"
    },
    "tags": []
   },
   "outputs": [],
   "source": [
    "import matplotlib.pyplot as plt\n",
    "import seaborn as sns\n",
    "from sklearn.compose import make_column_transformer\n",
    "from sklearn.impute import KNNImputer, SimpleImputer\n",
    "from sklearn.pipeline import make_pipeline\n",
    "from sklearn.preprocessing import OrdinalEncoder, StandardScaler, OneHotEncoder\n",
    "from sklearn.linear_model import LogisticRegression\n",
    "from sklearn.feature_selection import VarianceThreshold\n",
    "from sklearn.ensemble import RandomForestClassifier\n",
    "from sklearn.model_selection import GridSearchCV"
   ]
  },
  {
   "cell_type": "markdown",
   "id": "4c4a64bc",
   "metadata": {
    "papermill": {
     "duration": 0.03731,
     "end_time": "2021-10-12T18:25:02.608112",
     "exception": false,
     "start_time": "2021-10-12T18:25:02.570802",
     "status": "completed"
    },
    "tags": []
   },
   "source": [
    "#### **reading the csv file**"
   ]
  },
  {
   "cell_type": "code",
   "execution_count": 3,
   "id": "4c1b65d1",
   "metadata": {
    "execution": {
     "iopub.execute_input": "2021-10-12T18:25:02.692050Z",
     "iopub.status.busy": "2021-10-12T18:25:02.691240Z",
     "iopub.status.idle": "2021-10-12T18:25:02.767518Z",
     "shell.execute_reply": "2021-10-12T18:25:02.768060Z",
     "shell.execute_reply.started": "2021-10-12T18:07:38.550255Z"
    },
    "papermill": {
     "duration": 0.121458,
     "end_time": "2021-10-12T18:25:02.768258",
     "exception": false,
     "start_time": "2021-10-12T18:25:02.646800",
     "status": "completed"
    },
    "tags": []
   },
   "outputs": [
    {
     "data": {
      "text/html": [
       "<div>\n",
       "<style scoped>\n",
       "    .dataframe tbody tr th:only-of-type {\n",
       "        vertical-align: middle;\n",
       "    }\n",
       "\n",
       "    .dataframe tbody tr th {\n",
       "        vertical-align: top;\n",
       "    }\n",
       "\n",
       "    .dataframe thead th {\n",
       "        text-align: right;\n",
       "    }\n",
       "</style>\n",
       "<table border=\"1\" class=\"dataframe\">\n",
       "  <thead>\n",
       "    <tr style=\"text-align: right;\">\n",
       "      <th></th>\n",
       "      <th>Survived</th>\n",
       "      <th>Pclass</th>\n",
       "      <th>Name</th>\n",
       "      <th>Sex</th>\n",
       "      <th>Age</th>\n",
       "      <th>SibSp</th>\n",
       "      <th>Parch</th>\n",
       "      <th>Ticket</th>\n",
       "      <th>Fare</th>\n",
       "      <th>Cabin</th>\n",
       "      <th>Embarked</th>\n",
       "    </tr>\n",
       "    <tr>\n",
       "      <th>PassengerId</th>\n",
       "      <th></th>\n",
       "      <th></th>\n",
       "      <th></th>\n",
       "      <th></th>\n",
       "      <th></th>\n",
       "      <th></th>\n",
       "      <th></th>\n",
       "      <th></th>\n",
       "      <th></th>\n",
       "      <th></th>\n",
       "      <th></th>\n",
       "    </tr>\n",
       "  </thead>\n",
       "  <tbody>\n",
       "    <tr>\n",
       "      <th>1</th>\n",
       "      <td>0</td>\n",
       "      <td>3</td>\n",
       "      <td>Braund, Mr. Owen Harris</td>\n",
       "      <td>male</td>\n",
       "      <td>22.0</td>\n",
       "      <td>1</td>\n",
       "      <td>0</td>\n",
       "      <td>A/5 21171</td>\n",
       "      <td>7.2500</td>\n",
       "      <td>NaN</td>\n",
       "      <td>S</td>\n",
       "    </tr>\n",
       "    <tr>\n",
       "      <th>2</th>\n",
       "      <td>1</td>\n",
       "      <td>1</td>\n",
       "      <td>Cumings, Mrs. John Bradley (Florence Briggs Th...</td>\n",
       "      <td>female</td>\n",
       "      <td>38.0</td>\n",
       "      <td>1</td>\n",
       "      <td>0</td>\n",
       "      <td>PC 17599</td>\n",
       "      <td>71.2833</td>\n",
       "      <td>C85</td>\n",
       "      <td>C</td>\n",
       "    </tr>\n",
       "    <tr>\n",
       "      <th>3</th>\n",
       "      <td>1</td>\n",
       "      <td>3</td>\n",
       "      <td>Heikkinen, Miss. Laina</td>\n",
       "      <td>female</td>\n",
       "      <td>26.0</td>\n",
       "      <td>0</td>\n",
       "      <td>0</td>\n",
       "      <td>STON/O2. 3101282</td>\n",
       "      <td>7.9250</td>\n",
       "      <td>NaN</td>\n",
       "      <td>S</td>\n",
       "    </tr>\n",
       "    <tr>\n",
       "      <th>4</th>\n",
       "      <td>1</td>\n",
       "      <td>1</td>\n",
       "      <td>Futrelle, Mrs. Jacques Heath (Lily May Peel)</td>\n",
       "      <td>female</td>\n",
       "      <td>35.0</td>\n",
       "      <td>1</td>\n",
       "      <td>0</td>\n",
       "      <td>113803</td>\n",
       "      <td>53.1000</td>\n",
       "      <td>C123</td>\n",
       "      <td>S</td>\n",
       "    </tr>\n",
       "    <tr>\n",
       "      <th>5</th>\n",
       "      <td>0</td>\n",
       "      <td>3</td>\n",
       "      <td>Allen, Mr. William Henry</td>\n",
       "      <td>male</td>\n",
       "      <td>35.0</td>\n",
       "      <td>0</td>\n",
       "      <td>0</td>\n",
       "      <td>373450</td>\n",
       "      <td>8.0500</td>\n",
       "      <td>NaN</td>\n",
       "      <td>S</td>\n",
       "    </tr>\n",
       "    <tr>\n",
       "      <th>...</th>\n",
       "      <td>...</td>\n",
       "      <td>...</td>\n",
       "      <td>...</td>\n",
       "      <td>...</td>\n",
       "      <td>...</td>\n",
       "      <td>...</td>\n",
       "      <td>...</td>\n",
       "      <td>...</td>\n",
       "      <td>...</td>\n",
       "      <td>...</td>\n",
       "      <td>...</td>\n",
       "    </tr>\n",
       "    <tr>\n",
       "      <th>887</th>\n",
       "      <td>0</td>\n",
       "      <td>2</td>\n",
       "      <td>Montvila, Rev. Juozas</td>\n",
       "      <td>male</td>\n",
       "      <td>27.0</td>\n",
       "      <td>0</td>\n",
       "      <td>0</td>\n",
       "      <td>211536</td>\n",
       "      <td>13.0000</td>\n",
       "      <td>NaN</td>\n",
       "      <td>S</td>\n",
       "    </tr>\n",
       "    <tr>\n",
       "      <th>888</th>\n",
       "      <td>1</td>\n",
       "      <td>1</td>\n",
       "      <td>Graham, Miss. Margaret Edith</td>\n",
       "      <td>female</td>\n",
       "      <td>19.0</td>\n",
       "      <td>0</td>\n",
       "      <td>0</td>\n",
       "      <td>112053</td>\n",
       "      <td>30.0000</td>\n",
       "      <td>B42</td>\n",
       "      <td>S</td>\n",
       "    </tr>\n",
       "    <tr>\n",
       "      <th>889</th>\n",
       "      <td>0</td>\n",
       "      <td>3</td>\n",
       "      <td>Johnston, Miss. Catherine Helen \"Carrie\"</td>\n",
       "      <td>female</td>\n",
       "      <td>NaN</td>\n",
       "      <td>1</td>\n",
       "      <td>2</td>\n",
       "      <td>W./C. 6607</td>\n",
       "      <td>23.4500</td>\n",
       "      <td>NaN</td>\n",
       "      <td>S</td>\n",
       "    </tr>\n",
       "    <tr>\n",
       "      <th>890</th>\n",
       "      <td>1</td>\n",
       "      <td>1</td>\n",
       "      <td>Behr, Mr. Karl Howell</td>\n",
       "      <td>male</td>\n",
       "      <td>26.0</td>\n",
       "      <td>0</td>\n",
       "      <td>0</td>\n",
       "      <td>111369</td>\n",
       "      <td>30.0000</td>\n",
       "      <td>C148</td>\n",
       "      <td>C</td>\n",
       "    </tr>\n",
       "    <tr>\n",
       "      <th>891</th>\n",
       "      <td>0</td>\n",
       "      <td>3</td>\n",
       "      <td>Dooley, Mr. Patrick</td>\n",
       "      <td>male</td>\n",
       "      <td>32.0</td>\n",
       "      <td>0</td>\n",
       "      <td>0</td>\n",
       "      <td>370376</td>\n",
       "      <td>7.7500</td>\n",
       "      <td>NaN</td>\n",
       "      <td>Q</td>\n",
       "    </tr>\n",
       "  </tbody>\n",
       "</table>\n",
       "<p>891 rows × 11 columns</p>\n",
       "</div>"
      ],
      "text/plain": [
       "             Survived  Pclass  \\\n",
       "PassengerId                     \n",
       "1                   0       3   \n",
       "2                   1       1   \n",
       "3                   1       3   \n",
       "4                   1       1   \n",
       "5                   0       3   \n",
       "...               ...     ...   \n",
       "887                 0       2   \n",
       "888                 1       1   \n",
       "889                 0       3   \n",
       "890                 1       1   \n",
       "891                 0       3   \n",
       "\n",
       "                                                          Name     Sex   Age  \\\n",
       "PassengerId                                                                    \n",
       "1                                      Braund, Mr. Owen Harris    male  22.0   \n",
       "2            Cumings, Mrs. John Bradley (Florence Briggs Th...  female  38.0   \n",
       "3                                       Heikkinen, Miss. Laina  female  26.0   \n",
       "4                 Futrelle, Mrs. Jacques Heath (Lily May Peel)  female  35.0   \n",
       "5                                     Allen, Mr. William Henry    male  35.0   \n",
       "...                                                        ...     ...   ...   \n",
       "887                                      Montvila, Rev. Juozas    male  27.0   \n",
       "888                               Graham, Miss. Margaret Edith  female  19.0   \n",
       "889                   Johnston, Miss. Catherine Helen \"Carrie\"  female   NaN   \n",
       "890                                      Behr, Mr. Karl Howell    male  26.0   \n",
       "891                                        Dooley, Mr. Patrick    male  32.0   \n",
       "\n",
       "             SibSp  Parch            Ticket     Fare Cabin Embarked  \n",
       "PassengerId                                                          \n",
       "1                1      0         A/5 21171   7.2500   NaN        S  \n",
       "2                1      0          PC 17599  71.2833   C85        C  \n",
       "3                0      0  STON/O2. 3101282   7.9250   NaN        S  \n",
       "4                1      0            113803  53.1000  C123        S  \n",
       "5                0      0            373450   8.0500   NaN        S  \n",
       "...            ...    ...               ...      ...   ...      ...  \n",
       "887              0      0            211536  13.0000   NaN        S  \n",
       "888              0      0            112053  30.0000   B42        S  \n",
       "889              1      2        W./C. 6607  23.4500   NaN        S  \n",
       "890              0      0            111369  30.0000  C148        C  \n",
       "891              0      0            370376   7.7500   NaN        Q  \n",
       "\n",
       "[891 rows x 11 columns]"
      ]
     },
     "execution_count": 3,
     "metadata": {},
     "output_type": "execute_result"
    }
   ],
   "source": [
    "df = pd.read_csv(\"/kaggle/input/titanic/train.csv\", index_col=\"PassengerId\")\n",
    "test_data = pd.read_csv(\"/kaggle/input/titanic/test.csv\", index_col=\"PassengerId\")\n",
    "df"
   ]
  },
  {
   "cell_type": "markdown",
   "id": "2bfb557c",
   "metadata": {
    "papermill": {
     "duration": 0.037761,
     "end_time": "2021-10-12T18:25:02.845257",
     "exception": false,
     "start_time": "2021-10-12T18:25:02.807496",
     "status": "completed"
    },
    "tags": []
   },
   "source": [
    "### **starting with Explolatory data analysis (EDA)**"
   ]
  },
  {
   "cell_type": "code",
   "execution_count": 4,
   "id": "68b74afd",
   "metadata": {
    "execution": {
     "iopub.execute_input": "2021-10-12T18:25:02.927866Z",
     "iopub.status.busy": "2021-10-12T18:25:02.927122Z",
     "iopub.status.idle": "2021-10-12T18:25:02.930556Z",
     "shell.execute_reply": "2021-10-12T18:25:02.931114Z",
     "shell.execute_reply.started": "2021-10-12T18:07:38.619506Z"
    },
    "papermill": {
     "duration": 0.047878,
     "end_time": "2021-10-12T18:25:02.931311",
     "exception": false,
     "start_time": "2021-10-12T18:25:02.883433",
     "status": "completed"
    },
    "tags": []
   },
   "outputs": [
    {
     "data": {
      "text/plain": [
       "(891, 11)"
      ]
     },
     "execution_count": 4,
     "metadata": {},
     "output_type": "execute_result"
    }
   ],
   "source": [
    "# shape of the training data\n",
    "df.shape"
   ]
  },
  {
   "cell_type": "code",
   "execution_count": 5,
   "id": "93e83257",
   "metadata": {
    "execution": {
     "iopub.execute_input": "2021-10-12T18:25:03.016261Z",
     "iopub.status.busy": "2021-10-12T18:25:03.015496Z",
     "iopub.status.idle": "2021-10-12T18:25:03.032963Z",
     "shell.execute_reply": "2021-10-12T18:25:03.033436Z",
     "shell.execute_reply.started": "2021-10-12T18:07:38.627637Z"
    },
    "papermill": {
     "duration": 0.064121,
     "end_time": "2021-10-12T18:25:03.033631",
     "exception": false,
     "start_time": "2021-10-12T18:25:02.969510",
     "status": "completed"
    },
    "tags": []
   },
   "outputs": [
    {
     "name": "stdout",
     "output_type": "stream",
     "text": [
      "<class 'pandas.core.frame.DataFrame'>\n",
      "Int64Index: 891 entries, 1 to 891\n",
      "Data columns (total 11 columns):\n",
      " #   Column    Non-Null Count  Dtype  \n",
      "---  ------    --------------  -----  \n",
      " 0   Survived  891 non-null    int64  \n",
      " 1   Pclass    891 non-null    int64  \n",
      " 2   Name      891 non-null    object \n",
      " 3   Sex       891 non-null    object \n",
      " 4   Age       714 non-null    float64\n",
      " 5   SibSp     891 non-null    int64  \n",
      " 6   Parch     891 non-null    int64  \n",
      " 7   Ticket    891 non-null    object \n",
      " 8   Fare      891 non-null    float64\n",
      " 9   Cabin     204 non-null    object \n",
      " 10  Embarked  889 non-null    object \n",
      "dtypes: float64(2), int64(4), object(5)\n",
      "memory usage: 83.5+ KB\n"
     ]
    }
   ],
   "source": [
    "# general info about columns of the data in our hand\n",
    "df.info()"
   ]
  },
  {
   "cell_type": "code",
   "execution_count": 6,
   "id": "56218a06",
   "metadata": {
    "execution": {
     "iopub.execute_input": "2021-10-12T18:25:03.116045Z",
     "iopub.status.busy": "2021-10-12T18:25:03.115359Z",
     "iopub.status.idle": "2021-10-12T18:25:03.147480Z",
     "shell.execute_reply": "2021-10-12T18:25:03.148006Z",
     "shell.execute_reply.started": "2021-10-12T18:07:38.655431Z"
    },
    "papermill": {
     "duration": 0.075718,
     "end_time": "2021-10-12T18:25:03.148177",
     "exception": false,
     "start_time": "2021-10-12T18:25:03.072459",
     "status": "completed"
    },
    "tags": []
   },
   "outputs": [
    {
     "data": {
      "text/html": [
       "<div>\n",
       "<style scoped>\n",
       "    .dataframe tbody tr th:only-of-type {\n",
       "        vertical-align: middle;\n",
       "    }\n",
       "\n",
       "    .dataframe tbody tr th {\n",
       "        vertical-align: top;\n",
       "    }\n",
       "\n",
       "    .dataframe thead th {\n",
       "        text-align: right;\n",
       "    }\n",
       "</style>\n",
       "<table border=\"1\" class=\"dataframe\">\n",
       "  <thead>\n",
       "    <tr style=\"text-align: right;\">\n",
       "      <th></th>\n",
       "      <th>Survived</th>\n",
       "      <th>Pclass</th>\n",
       "      <th>Age</th>\n",
       "      <th>SibSp</th>\n",
       "      <th>Parch</th>\n",
       "      <th>Fare</th>\n",
       "    </tr>\n",
       "  </thead>\n",
       "  <tbody>\n",
       "    <tr>\n",
       "      <th>count</th>\n",
       "      <td>891.000000</td>\n",
       "      <td>891.000000</td>\n",
       "      <td>714.000000</td>\n",
       "      <td>891.000000</td>\n",
       "      <td>891.000000</td>\n",
       "      <td>891.000000</td>\n",
       "    </tr>\n",
       "    <tr>\n",
       "      <th>mean</th>\n",
       "      <td>0.383838</td>\n",
       "      <td>2.308642</td>\n",
       "      <td>29.699118</td>\n",
       "      <td>0.523008</td>\n",
       "      <td>0.381594</td>\n",
       "      <td>32.204208</td>\n",
       "    </tr>\n",
       "    <tr>\n",
       "      <th>std</th>\n",
       "      <td>0.486592</td>\n",
       "      <td>0.836071</td>\n",
       "      <td>14.526497</td>\n",
       "      <td>1.102743</td>\n",
       "      <td>0.806057</td>\n",
       "      <td>49.693429</td>\n",
       "    </tr>\n",
       "    <tr>\n",
       "      <th>min</th>\n",
       "      <td>0.000000</td>\n",
       "      <td>1.000000</td>\n",
       "      <td>0.420000</td>\n",
       "      <td>0.000000</td>\n",
       "      <td>0.000000</td>\n",
       "      <td>0.000000</td>\n",
       "    </tr>\n",
       "    <tr>\n",
       "      <th>25%</th>\n",
       "      <td>0.000000</td>\n",
       "      <td>2.000000</td>\n",
       "      <td>20.125000</td>\n",
       "      <td>0.000000</td>\n",
       "      <td>0.000000</td>\n",
       "      <td>7.910400</td>\n",
       "    </tr>\n",
       "    <tr>\n",
       "      <th>50%</th>\n",
       "      <td>0.000000</td>\n",
       "      <td>3.000000</td>\n",
       "      <td>28.000000</td>\n",
       "      <td>0.000000</td>\n",
       "      <td>0.000000</td>\n",
       "      <td>14.454200</td>\n",
       "    </tr>\n",
       "    <tr>\n",
       "      <th>75%</th>\n",
       "      <td>1.000000</td>\n",
       "      <td>3.000000</td>\n",
       "      <td>38.000000</td>\n",
       "      <td>1.000000</td>\n",
       "      <td>0.000000</td>\n",
       "      <td>31.000000</td>\n",
       "    </tr>\n",
       "    <tr>\n",
       "      <th>max</th>\n",
       "      <td>1.000000</td>\n",
       "      <td>3.000000</td>\n",
       "      <td>80.000000</td>\n",
       "      <td>8.000000</td>\n",
       "      <td>6.000000</td>\n",
       "      <td>512.329200</td>\n",
       "    </tr>\n",
       "  </tbody>\n",
       "</table>\n",
       "</div>"
      ],
      "text/plain": [
       "         Survived      Pclass         Age       SibSp       Parch        Fare\n",
       "count  891.000000  891.000000  714.000000  891.000000  891.000000  891.000000\n",
       "mean     0.383838    2.308642   29.699118    0.523008    0.381594   32.204208\n",
       "std      0.486592    0.836071   14.526497    1.102743    0.806057   49.693429\n",
       "min      0.000000    1.000000    0.420000    0.000000    0.000000    0.000000\n",
       "25%      0.000000    2.000000   20.125000    0.000000    0.000000    7.910400\n",
       "50%      0.000000    3.000000   28.000000    0.000000    0.000000   14.454200\n",
       "75%      1.000000    3.000000   38.000000    1.000000    0.000000   31.000000\n",
       "max      1.000000    3.000000   80.000000    8.000000    6.000000  512.329200"
      ]
     },
     "execution_count": 6,
     "metadata": {},
     "output_type": "execute_result"
    }
   ],
   "source": [
    "# information about numerical columns\n",
    "df.describe()"
   ]
  },
  {
   "cell_type": "code",
   "execution_count": 7,
   "id": "b6083061",
   "metadata": {
    "execution": {
     "iopub.execute_input": "2021-10-12T18:25:03.231199Z",
     "iopub.status.busy": "2021-10-12T18:25:03.230494Z",
     "iopub.status.idle": "2021-10-12T18:25:03.240589Z",
     "shell.execute_reply": "2021-10-12T18:25:03.240084Z",
     "shell.execute_reply.started": "2021-10-12T18:07:38.689428Z"
    },
    "papermill": {
     "duration": 0.053899,
     "end_time": "2021-10-12T18:25:03.240751",
     "exception": false,
     "start_time": "2021-10-12T18:25:03.186852",
     "status": "completed"
    },
    "tags": []
   },
   "outputs": [
    {
     "data": {
      "text/plain": [
       "Survived      0\n",
       "Pclass        0\n",
       "Name          0\n",
       "Sex           0\n",
       "Age         177\n",
       "SibSp         0\n",
       "Parch         0\n",
       "Ticket        0\n",
       "Fare          0\n",
       "Cabin       687\n",
       "Embarked      2\n",
       "dtype: int64"
      ]
     },
     "execution_count": 7,
     "metadata": {},
     "output_type": "execute_result"
    }
   ],
   "source": [
    "# number of null values in each column\n",
    "df.isna().sum()"
   ]
  },
  {
   "cell_type": "code",
   "execution_count": 8,
   "id": "d72d5e1a",
   "metadata": {
    "execution": {
     "iopub.execute_input": "2021-10-12T18:25:03.335210Z",
     "iopub.status.busy": "2021-10-12T18:25:03.334195Z",
     "iopub.status.idle": "2021-10-12T18:25:03.339032Z",
     "shell.execute_reply": "2021-10-12T18:25:03.338334Z",
     "shell.execute_reply.started": "2021-10-12T18:07:38.702992Z"
    },
    "papermill": {
     "duration": 0.056301,
     "end_time": "2021-10-12T18:25:03.339196",
     "exception": false,
     "start_time": "2021-10-12T18:25:03.282895",
     "status": "completed"
    },
    "tags": []
   },
   "outputs": [
    {
     "data": {
      "text/plain": [
       "Survived    0.000000\n",
       "Pclass      0.000000\n",
       "Name        0.000000\n",
       "Sex         0.000000\n",
       "Age         0.198653\n",
       "SibSp       0.000000\n",
       "Parch       0.000000\n",
       "Ticket      0.000000\n",
       "Fare        0.000000\n",
       "Cabin       0.771044\n",
       "Embarked    0.002245\n",
       "dtype: float64"
      ]
     },
     "execution_count": 8,
     "metadata": {},
     "output_type": "execute_result"
    }
   ],
   "source": [
    "# here the percentage of null values in each column\n",
    "df.isna().mean()"
   ]
  },
  {
   "cell_type": "markdown",
   "id": "38ed3597",
   "metadata": {
    "papermill": {
     "duration": 0.039283,
     "end_time": "2021-10-12T18:25:03.418408",
     "exception": false,
     "start_time": "2021-10-12T18:25:03.379125",
     "status": "completed"
    },
    "tags": []
   },
   "source": [
    "## columns that will be dropped\n",
    "**[\"Name\", \"Cabin\", \"Ticket\", \"Fare\"]**\n",
    "#### 1- name column as names doesn't carry relevant information, the same for (Ticket and Fare)\n",
    "#### 2- 77% of Cabin column is null values, so i will delete that column as we cann't impute it accurately"
   ]
  },
  {
   "cell_type": "code",
   "execution_count": 9,
   "id": "b89c962a",
   "metadata": {
    "execution": {
     "iopub.execute_input": "2021-10-12T18:25:03.507029Z",
     "iopub.status.busy": "2021-10-12T18:25:03.506222Z",
     "iopub.status.idle": "2021-10-12T18:25:03.509592Z",
     "shell.execute_reply": "2021-10-12T18:25:03.509073Z",
     "shell.execute_reply.started": "2021-10-12T18:07:38.723464Z"
    },
    "papermill": {
     "duration": 0.051338,
     "end_time": "2021-10-12T18:25:03.509774",
     "exception": false,
     "start_time": "2021-10-12T18:25:03.458436",
     "status": "completed"
    },
    "tags": []
   },
   "outputs": [],
   "source": [
    "label = \"Survived\""
   ]
  },
  {
   "cell_type": "code",
   "execution_count": 10,
   "id": "cc731fc1",
   "metadata": {
    "execution": {
     "iopub.execute_input": "2021-10-12T18:25:03.595641Z",
     "iopub.status.busy": "2021-10-12T18:25:03.595007Z",
     "iopub.status.idle": "2021-10-12T18:25:03.598031Z",
     "shell.execute_reply": "2021-10-12T18:25:03.598612Z",
     "shell.execute_reply.started": "2021-10-12T18:07:38.730054Z"
    },
    "papermill": {
     "duration": 0.049059,
     "end_time": "2021-10-12T18:25:03.598817",
     "exception": false,
     "start_time": "2021-10-12T18:25:03.549758",
     "status": "completed"
    },
    "tags": []
   },
   "outputs": [
    {
     "data": {
      "text/plain": [
       "Index(['Survived', 'Pclass', 'Name', 'Sex', 'Age', 'SibSp', 'Parch', 'Ticket',\n",
       "       'Fare', 'Cabin', 'Embarked'],\n",
       "      dtype='object')"
      ]
     },
     "execution_count": 10,
     "metadata": {},
     "output_type": "execute_result"
    }
   ],
   "source": [
    "df.columns"
   ]
  },
  {
   "cell_type": "code",
   "execution_count": 11,
   "id": "7e9c9545",
   "metadata": {
    "execution": {
     "iopub.execute_input": "2021-10-12T18:25:03.682093Z",
     "iopub.status.busy": "2021-10-12T18:25:03.681375Z",
     "iopub.status.idle": "2021-10-12T18:25:03.691873Z",
     "shell.execute_reply": "2021-10-12T18:25:03.692409Z",
     "shell.execute_reply.started": "2021-10-12T18:07:38.742027Z"
    },
    "papermill": {
     "duration": 0.053812,
     "end_time": "2021-10-12T18:25:03.692592",
     "exception": false,
     "start_time": "2021-10-12T18:25:03.638780",
     "status": "completed"
    },
    "tags": []
   },
   "outputs": [
    {
     "data": {
      "text/plain": [
       "(array([22.  , 38.  , 26.  , 35.  ,   nan, 54.  ,  2.  , 27.  , 14.  ,\n",
       "         4.  , 58.  , 20.  , 39.  , 55.  , 31.  , 34.  , 15.  , 28.  ,\n",
       "         8.  , 19.  , 40.  , 66.  , 42.  , 21.  , 18.  ,  3.  ,  7.  ,\n",
       "        49.  , 29.  , 65.  , 28.5 ,  5.  , 11.  , 45.  , 17.  , 32.  ,\n",
       "        16.  , 25.  ,  0.83, 30.  , 33.  , 23.  , 24.  , 46.  , 59.  ,\n",
       "        71.  , 37.  , 47.  , 14.5 , 70.5 , 32.5 , 12.  ,  9.  , 36.5 ,\n",
       "        51.  , 55.5 , 40.5 , 44.  ,  1.  , 61.  , 56.  , 50.  , 36.  ,\n",
       "        45.5 , 20.5 , 62.  , 41.  , 52.  , 63.  , 23.5 ,  0.92, 43.  ,\n",
       "        60.  , 10.  , 64.  , 13.  , 48.  ,  0.75, 53.  , 57.  , 80.  ,\n",
       "        70.  , 24.5 ,  6.  ,  0.67, 30.5 ,  0.42, 34.5 , 74.  ]),\n",
       " 24.00    30\n",
       " 22.00    27\n",
       " 18.00    26\n",
       " 28.00    25\n",
       " 19.00    25\n",
       "          ..\n",
       " 55.50     1\n",
       " 74.00     1\n",
       " 0.92      1\n",
       " 70.50     1\n",
       " 12.00     1\n",
       " Name: Age, Length: 88, dtype: int64)"
      ]
     },
     "execution_count": 11,
     "metadata": {},
     "output_type": "execute_result"
    }
   ],
   "source": [
    "df[\"Age\"].unique(), df[\"Age\"].value_counts()"
   ]
  },
  {
   "cell_type": "code",
   "execution_count": 12,
   "id": "4df10111",
   "metadata": {
    "execution": {
     "iopub.execute_input": "2021-10-12T18:25:03.777839Z",
     "iopub.status.busy": "2021-10-12T18:25:03.777173Z",
     "iopub.status.idle": "2021-10-12T18:25:04.035533Z",
     "shell.execute_reply": "2021-10-12T18:25:04.036113Z",
     "shell.execute_reply.started": "2021-10-12T18:07:38.761105Z"
    },
    "papermill": {
     "duration": 0.302454,
     "end_time": "2021-10-12T18:25:04.036287",
     "exception": false,
     "start_time": "2021-10-12T18:25:03.733833",
     "status": "completed"
    },
    "tags": []
   },
   "outputs": [
    {
     "data": {
      "text/plain": [
       "<AxesSubplot:>"
      ]
     },
     "execution_count": 12,
     "metadata": {},
     "output_type": "execute_result"
    },
    {
     "data": {
      "image/png": "[encoded data removed]",
      "text/plain": [
       "<Figure size 432x288 with 1 Axes>"
      ]
     },
     "metadata": {
      "needs_background": "light"
     },
     "output_type": "display_data"
    }
   ],
   "source": [
    "df[\"Pclass\"].hist()"
   ]
  },
  {
   "cell_type": "code",
   "execution_count": 13,
   "id": "52f40ef9",
   "metadata": {
    "execution": {
     "iopub.execute_input": "2021-10-12T18:25:04.122819Z",
     "iopub.status.busy": "2021-10-12T18:25:04.122131Z",
     "iopub.status.idle": "2021-10-12T18:25:04.125913Z",
     "shell.execute_reply": "2021-10-12T18:25:04.126422Z",
     "shell.execute_reply.started": "2021-10-12T18:07:39.011841Z"
    },
    "papermill": {
     "duration": 0.049252,
     "end_time": "2021-10-12T18:25:04.126595",
     "exception": false,
     "start_time": "2021-10-12T18:25:04.077343",
     "status": "completed"
    },
    "tags": []
   },
   "outputs": [],
   "source": [
    "# df.Survived.plot.bar()"
   ]
  },
  {
   "cell_type": "code",
   "execution_count": 14,
   "id": "6ab05ad6",
   "metadata": {
    "execution": {
     "iopub.execute_input": "2021-10-12T18:25:04.213680Z",
     "iopub.status.busy": "2021-10-12T18:25:04.213061Z",
     "iopub.status.idle": "2021-10-12T18:25:04.376751Z",
     "shell.execute_reply": "2021-10-12T18:25:04.377283Z",
     "shell.execute_reply.started": "2021-10-12T18:07:39.016914Z"
    },
    "papermill": {
     "duration": 0.209594,
     "end_time": "2021-10-12T18:25:04.377481",
     "exception": false,
     "start_time": "2021-10-12T18:25:04.167887",
     "status": "completed"
    },
    "tags": []
   },
   "outputs": [
    {
     "data": {
      "text/plain": [
       "<AxesSubplot:>"
      ]
     },
     "execution_count": 14,
     "metadata": {},
     "output_type": "execute_result"
    },
    {
     "data": {
      "image/png": "[encoded data removed]",
      "text/plain": [
       "<Figure size 432x288 with 1 Axes>"
      ]
     },
     "metadata": {
      "needs_background": "light"
     },
     "output_type": "display_data"
    }
   ],
   "source": [
    "df.boxplot(column=\"Pclass\")"
   ]
  },
  {
   "cell_type": "code",
   "execution_count": 15,
   "id": "1e482b8f",
   "metadata": {
    "execution": {
     "iopub.execute_input": "2021-10-12T18:25:04.494508Z",
     "iopub.status.busy": "2021-10-12T18:25:04.490680Z",
     "iopub.status.idle": "2021-10-12T18:25:04.643029Z",
     "shell.execute_reply": "2021-10-12T18:25:04.642308Z",
     "shell.execute_reply.started": "2021-10-12T18:07:39.183403Z"
    },
    "papermill": {
     "duration": 0.223103,
     "end_time": "2021-10-12T18:25:04.643203",
     "exception": false,
     "start_time": "2021-10-12T18:25:04.420100",
     "status": "completed"
    },
    "tags": []
   },
   "outputs": [
    {
     "data": {
      "image/png": "[encoded data removed]",
      "text/plain": [
       "<Figure size 432x288 with 1 Axes>"
      ]
     },
     "metadata": {
      "needs_background": "light"
     },
     "output_type": "display_data"
    }
   ],
   "source": [
    "plt.bar(df[\"Pclass\"].value_counts().index, df[\"Pclass\"].value_counts())\n",
    "plt.grid()"
   ]
  },
  {
   "cell_type": "code",
   "execution_count": 16,
   "id": "475da872",
   "metadata": {
    "execution": {
     "iopub.execute_input": "2021-10-12T18:25:04.738376Z",
     "iopub.status.busy": "2021-10-12T18:25:04.736821Z",
     "iopub.status.idle": "2021-10-12T18:25:05.411515Z",
     "shell.execute_reply": "2021-10-12T18:25:05.412051Z",
     "shell.execute_reply.started": "2021-10-12T18:07:39.349982Z"
    },
    "papermill": {
     "duration": 0.725042,
     "end_time": "2021-10-12T18:25:05.412267",
     "exception": false,
     "start_time": "2021-10-12T18:25:04.687225",
     "status": "completed"
    },
    "tags": []
   },
   "outputs": [
    {
     "name": "stdout",
     "output_type": "stream",
     "text": [
      "[3 1 2]\n"
     ]
    },
    {
     "data": {
      "text/plain": [
       "<seaborn.axisgrid.FacetGrid at 0x7f78b604de90>"
      ]
     },
     "execution_count": 16,
     "metadata": {},
     "output_type": "execute_result"
    },
    {
     "data": {
      "image/png": "[encoded data removed]",
      "text/plain": [
       "<Figure size 1080x360 with 3 Axes>"
      ]
     },
     "metadata": {
      "needs_background": "light"
     },
     "output_type": "display_data"
    }
   ],
   "source": [
    "print(df[\"Pclass\"].unique())\n",
    "sns.catplot(x=label, col=\"Pclass\", kind=\"count\", data=df)"
   ]
  },
  {
   "cell_type": "code",
   "execution_count": 17,
   "id": "ada59262",
   "metadata": {
    "execution": {
     "iopub.execute_input": "2021-10-12T18:25:05.507977Z",
     "iopub.status.busy": "2021-10-12T18:25:05.507274Z",
     "iopub.status.idle": "2021-10-12T18:25:05.900559Z",
     "shell.execute_reply": "2021-10-12T18:25:05.901114Z",
     "shell.execute_reply.started": "2021-10-12T18:07:40.020791Z"
    },
    "papermill": {
     "duration": 0.444439,
     "end_time": "2021-10-12T18:25:05.901290",
     "exception": false,
     "start_time": "2021-10-12T18:25:05.456851",
     "status": "completed"
    },
    "tags": []
   },
   "outputs": [
    {
     "name": "stdout",
     "output_type": "stream",
     "text": [
      "[1 0 3 4 2 5 8]\n"
     ]
    },
    {
     "data": {
      "image/png": "[encoded data removed]",
      "text/plain": [
       "<Figure size 720x360 with 2 Axes>"
      ]
     },
     "metadata": {
      "needs_background": "light"
     },
     "output_type": "display_data"
    }
   ],
   "source": [
    "print(df[\"SibSp\"].unique())\n",
    "sns.catplot(x=\"SibSp\", col=label, kind=\"count\", data=df)\n",
    "plt.show()"
   ]
  },
  {
   "cell_type": "code",
   "execution_count": 18,
   "id": "9032a295",
   "metadata": {
    "execution": {
     "iopub.execute_input": "2021-10-12T18:25:05.995689Z",
     "iopub.status.busy": "2021-10-12T18:25:05.995047Z",
     "iopub.status.idle": "2021-10-12T18:25:06.366051Z",
     "shell.execute_reply": "2021-10-12T18:25:06.365086Z",
     "shell.execute_reply.started": "2021-10-12T18:07:40.450091Z"
    },
    "papermill": {
     "duration": 0.419345,
     "end_time": "2021-10-12T18:25:06.366226",
     "exception": false,
     "start_time": "2021-10-12T18:25:05.946881",
     "status": "completed"
    },
    "tags": []
   },
   "outputs": [
    {
     "name": "stdout",
     "output_type": "stream",
     "text": [
      "[0 1 2 5 3 4 6]\n"
     ]
    },
    {
     "data": {
      "image/png": "[encoded data removed]",
      "text/plain": [
       "<Figure size 720x360 with 2 Axes>"
      ]
     },
     "metadata": {
      "needs_background": "light"
     },
     "output_type": "display_data"
    }
   ],
   "source": [
    "print(df[\"Parch\"].unique())\n",
    "sns.catplot(x=\"Parch\", col=label, kind=\"count\", data=df)\n",
    "plt.show()"
   ]
  },
  {
   "cell_type": "code",
   "execution_count": 19,
   "id": "520ac845",
   "metadata": {
    "execution": {
     "iopub.execute_input": "2021-10-12T18:25:06.472855Z",
     "iopub.status.busy": "2021-10-12T18:25:06.472163Z",
     "iopub.status.idle": "2021-10-12T18:25:06.475859Z",
     "shell.execute_reply": "2021-10-12T18:25:06.476422Z",
     "shell.execute_reply.started": "2021-10-12T18:07:40.848601Z"
    },
    "papermill": {
     "duration": 0.061492,
     "end_time": "2021-10-12T18:25:06.476589",
     "exception": false,
     "start_time": "2021-10-12T18:25:06.415097",
     "status": "completed"
    },
    "tags": []
   },
   "outputs": [
    {
     "data": {
      "text/plain": [
       "(7,\n",
       " 0    678\n",
       " 1    118\n",
       " 2     80\n",
       " 3      5\n",
       " 5      5\n",
       " 4      4\n",
       " 6      1\n",
       " Name: Parch, dtype: int64)"
      ]
     },
     "execution_count": 19,
     "metadata": {},
     "output_type": "execute_result"
    }
   ],
   "source": [
    "df[\"Parch\"].nunique(), df[\"Parch\"].value_counts()"
   ]
  },
  {
   "cell_type": "code",
   "execution_count": 20,
   "id": "e10624d6",
   "metadata": {
    "execution": {
     "iopub.execute_input": "2021-10-12T18:25:06.578275Z",
     "iopub.status.busy": "2021-10-12T18:25:06.577580Z",
     "iopub.status.idle": "2021-10-12T18:25:16.212669Z",
     "shell.execute_reply": "2021-10-12T18:25:16.212147Z",
     "shell.execute_reply.started": "2021-10-12T18:07:40.859568Z"
    },
    "papermill": {
     "duration": 9.689578,
     "end_time": "2021-10-12T18:25:16.212838",
     "exception": false,
     "start_time": "2021-10-12T18:25:06.523260",
     "status": "completed"
    },
    "tags": []
   },
   "outputs": [
    {
     "data": {
      "text/plain": [
       "<seaborn.axisgrid.FacetGrid at 0x7f78b39c5ed0>"
      ]
     },
     "execution_count": 20,
     "metadata": {},
     "output_type": "execute_result"
    },
    {
     "data": {
      "image/png": "[encoded data removed]",
      "text/plain": [
       "<Figure size 720x360 with 2 Axes>"
      ]
     },
     "metadata": {
      "needs_background": "light"
     },
     "output_type": "display_data"
    }
   ],
   "source": [
    "sns.catplot(x=\"Fare\", col=label, kind=\"count\", data=df)"
   ]
  },
  {
   "cell_type": "code",
   "execution_count": 21,
   "id": "6731f94b",
   "metadata": {
    "execution": {
     "iopub.execute_input": "2021-10-12T18:25:16.322662Z",
     "iopub.status.busy": "2021-10-12T18:25:16.318935Z",
     "iopub.status.idle": "2021-10-12T18:25:16.326098Z",
     "shell.execute_reply": "2021-10-12T18:25:16.326596Z",
     "shell.execute_reply.started": "2021-10-12T18:07:50.448282Z"
    },
    "papermill": {
     "duration": 0.065295,
     "end_time": "2021-10-12T18:25:16.326808",
     "exception": false,
     "start_time": "2021-10-12T18:25:16.261513",
     "status": "completed"
    },
    "tags": []
   },
   "outputs": [
    {
     "data": {
      "text/plain": [
       "(248,\n",
       " 8.0500     43\n",
       " 13.0000    42\n",
       " 7.8958     38\n",
       " 7.7500     34\n",
       " 26.0000    31\n",
       "            ..\n",
       " 50.4958     1\n",
       " 13.8583     1\n",
       " 8.4583      1\n",
       " 7.7250      1\n",
       " 7.5208      1\n",
       " Name: Fare, Length: 248, dtype: int64)"
      ]
     },
     "execution_count": 21,
     "metadata": {},
     "output_type": "execute_result"
    }
   ],
   "source": [
    "df[\"Fare\"].nunique(), df[\"Fare\"].value_counts()"
   ]
  },
  {
   "cell_type": "markdown",
   "id": "a3ee5e00",
   "metadata": {
    "papermill": {
     "duration": 0.049601,
     "end_time": "2021-10-12T18:25:16.425673",
     "exception": false,
     "start_time": "2021-10-12T18:25:16.376072",
     "status": "completed"
    },
    "tags": []
   },
   "source": [
    "#### Fare column also will be deleted"
   ]
  },
  {
   "cell_type": "code",
   "execution_count": 22,
   "id": "381dc67e",
   "metadata": {
    "execution": {
     "iopub.execute_input": "2021-10-12T18:25:16.531672Z",
     "iopub.status.busy": "2021-10-12T18:25:16.530813Z",
     "iopub.status.idle": "2021-10-12T18:25:43.058444Z",
     "shell.execute_reply": "2021-10-12T18:25:43.059232Z",
     "shell.execute_reply.started": "2021-10-12T18:07:50.463087Z"
    },
    "papermill": {
     "duration": 26.583814,
     "end_time": "2021-10-12T18:25:43.059458",
     "exception": false,
     "start_time": "2021-10-12T18:25:16.475644",
     "status": "completed"
    },
    "tags": []
   },
   "outputs": [
    {
     "data": {
      "image/png": "[encoded data removed]",
      "text/plain": [
       "<Figure size 720x360 with 2 Axes>"
      ]
     },
     "metadata": {
      "needs_background": "light"
     },
     "output_type": "display_data"
    }
   ],
   "source": [
    "sns.catplot(x=\"Ticket\", col=label, kind='count', data=df);"
   ]
  },
  {
   "cell_type": "code",
   "execution_count": 23,
   "id": "ee0e8b9b",
   "metadata": {
    "execution": {
     "iopub.execute_input": "2021-10-12T18:25:43.166857Z",
     "iopub.status.busy": "2021-10-12T18:25:43.166135Z",
     "iopub.status.idle": "2021-10-12T18:25:43.177695Z",
     "shell.execute_reply": "2021-10-12T18:25:43.178209Z",
     "shell.execute_reply.started": "2021-10-12T18:08:16.579171Z"
    },
    "papermill": {
     "duration": 0.066439,
     "end_time": "2021-10-12T18:25:43.178399",
     "exception": false,
     "start_time": "2021-10-12T18:25:43.111960",
     "status": "completed"
    },
    "tags": []
   },
   "outputs": [
    {
     "data": {
      "text/plain": [
       "(681,\n",
       " CA. 2343     7\n",
       " 347082       7\n",
       " 1601         7\n",
       " 347088       6\n",
       " CA 2144      6\n",
       "             ..\n",
       " A4. 54510    1\n",
       " 349247       1\n",
       " 36866        1\n",
       " 367231       1\n",
       " 386525       1\n",
       " Name: Ticket, Length: 681, dtype: int64)"
      ]
     },
     "execution_count": 23,
     "metadata": {},
     "output_type": "execute_result"
    }
   ],
   "source": [
    "df[\"Ticket\"].nunique(), df[\"Ticket\"].value_counts()"
   ]
  },
  {
   "cell_type": "markdown",
   "id": "12f1138a",
   "metadata": {
    "papermill": {
     "duration": 0.054143,
     "end_time": "2021-10-12T18:25:43.287072",
     "exception": false,
     "start_time": "2021-10-12T18:25:43.232929",
     "status": "completed"
    },
    "tags": []
   },
   "source": [
    "#### also Ticket column needed to be deleted"
   ]
  },
  {
   "cell_type": "markdown",
   "id": "1f56733f",
   "metadata": {
    "papermill": {
     "duration": 0.050468,
     "end_time": "2021-10-12T18:25:43.390788",
     "exception": false,
     "start_time": "2021-10-12T18:25:43.340320",
     "status": "completed"
    },
    "tags": []
   },
   "source": [
    "### **using train test split function to split the training data into training and validation set**"
   ]
  },
  {
   "cell_type": "code",
   "execution_count": 24,
   "id": "03f454b2",
   "metadata": {
    "execution": {
     "iopub.execute_input": "2021-10-12T18:25:43.501598Z",
     "iopub.status.busy": "2021-10-12T18:25:43.500537Z",
     "iopub.status.idle": "2021-10-12T18:25:43.511200Z",
     "shell.execute_reply": "2021-10-12T18:25:43.511693Z",
     "shell.execute_reply.started": "2021-10-12T18:08:16.595123Z"
    },
    "papermill": {
     "duration": 0.068621,
     "end_time": "2021-10-12T18:25:43.511903",
     "exception": false,
     "start_time": "2021-10-12T18:25:43.443282",
     "status": "completed"
    },
    "tags": []
   },
   "outputs": [],
   "source": [
    "y = df[label]\n",
    "x = df.drop(label, axis=1)\n",
    "\n",
    "from sklearn.model_selection import train_test_split\n",
    "xtrain, xtest, ytrain, ytest = train_test_split(x, y, random_state=7, stratify=y)"
   ]
  },
  {
   "cell_type": "markdown",
   "id": "ab650cba",
   "metadata": {
    "papermill": {
     "duration": 0.048887,
     "end_time": "2021-10-12T18:25:43.611240",
     "exception": false,
     "start_time": "2021-10-12T18:25:43.562353",
     "status": "completed"
    },
    "tags": []
   },
   "source": [
    "### *we will do all the preprocessing steps using the make_column_transformer this has many advantages, such as we can involve the preprocessing step in the fine tuning process, and we dont need the repeat the same steps for testing data step by step*"
   ]
  },
  {
   "cell_type": "code",
   "execution_count": 25,
   "id": "65d47d18",
   "metadata": {
    "execution": {
     "iopub.execute_input": "2021-10-12T18:25:43.719114Z",
     "iopub.status.busy": "2021-10-12T18:25:43.718109Z",
     "iopub.status.idle": "2021-10-12T18:25:43.726309Z",
     "shell.execute_reply": "2021-10-12T18:25:43.726793Z",
     "shell.execute_reply.started": "2021-10-12T18:21:06.451260Z"
    },
    "papermill": {
     "duration": 0.063017,
     "end_time": "2021-10-12T18:25:43.726976",
     "exception": false,
     "start_time": "2021-10-12T18:25:43.663959",
     "status": "completed"
    },
    "tags": []
   },
   "outputs": [],
   "source": [
    "x = df.drop(label, axis=1)\n",
    "col_trans = make_column_transformer((\"drop\", [\"Name\", \"Cabin\", \"Ticket\", \"Fare\"]),\n",
    "                                    (KNNImputer(), [\"Age\"]), \n",
    "                                    (SimpleImputer(strategy=\"most_frequent\"), ['Embarked']), \n",
    "                                    (OneHotEncoder(), ['Sex']),\n",
    "                                    remainder=\"passthrough\")\n",
    "col_trans_1 = make_column_transformer( \n",
    "                                    (StandardScaler(), [0]),    #Age\n",
    "                                    (OneHotEncoder(), [1]),    #Embarked\n",
    "                                     remainder=\"passthrough\")\n",
    "vt = VarianceThreshold(threshold=0.01)"
   ]
  },
  {
   "cell_type": "code",
   "execution_count": 26,
   "id": "2366a7c4",
   "metadata": {
    "execution": {
     "iopub.execute_input": "2021-10-12T18:25:43.835353Z",
     "iopub.status.busy": "2021-10-12T18:25:43.834339Z",
     "iopub.status.idle": "2021-10-12T18:25:43.838245Z",
     "shell.execute_reply": "2021-10-12T18:25:43.838772Z",
     "shell.execute_reply.started": "2021-10-12T18:08:16.617545Z"
    },
    "papermill": {
     "duration": 0.060937,
     "end_time": "2021-10-12T18:25:43.838965",
     "exception": false,
     "start_time": "2021-10-12T18:25:43.778028",
     "status": "completed"
    },
    "tags": []
   },
   "outputs": [],
   "source": [
    "# clf = RandomForestClassifier()\n",
    "# pipe = make_pipeline(col_trans,\n",
    "#                      col_trans_1,\n",
    "#                      vt,\n",
    "#                     clf)\n",
    "# param_grid={\n",
    "#     'randomforestclassifier__n_estimators': range(100, 1500, 100),\n",
    "#     'randomforestclassifier__criterion' : [\"gini\", \"entropy\"],\n",
    "#     # Number of features to consider at every split\n",
    "#     \"randomforestclassifier__max_features\" : ['auto', 'sqrt', 'log2'],\n",
    "#     # Maximum number of levels in tree\n",
    "#     \"randomforestclassifier__max_depth\" : [2,5],\n",
    "#     # Minimum number of samples requerid to split a node\n",
    "#     \"randomforestclassifier__min_samples_split\" : [2,4],\n",
    "#     # Minimum number of samples requerid at each leaf node\n",
    "#     \"randomforestclassifier__min_samples_leaf\" : [1,2],\n",
    "#     # Method of selecting samples for training each tree\n",
    "#     \"randomforestclassifier__bootstrap\" : [True, False]\n",
    "# }\n",
    "# search = GridSearchCV(pipe, param_grid, cv=3)"
   ]
  },
  {
   "cell_type": "code",
   "execution_count": 27,
   "id": "12384b42",
   "metadata": {
    "execution": {
     "iopub.execute_input": "2021-10-12T18:25:43.944819Z",
     "iopub.status.busy": "2021-10-12T18:25:43.943808Z",
     "iopub.status.idle": "2021-10-12T18:25:43.948687Z",
     "shell.execute_reply": "2021-10-12T18:25:43.947894Z",
     "shell.execute_reply.started": "2021-10-12T18:08:16.628232Z"
    },
    "papermill": {
     "duration": 0.05888,
     "end_time": "2021-10-12T18:25:43.948870",
     "exception": false,
     "start_time": "2021-10-12T18:25:43.889990",
     "status": "completed"
    },
    "tags": []
   },
   "outputs": [],
   "source": [
    "# pipe.get_params().keys()"
   ]
  },
  {
   "cell_type": "code",
   "execution_count": 28,
   "id": "2205c64f",
   "metadata": {
    "execution": {
     "iopub.execute_input": "2021-10-12T18:25:44.056382Z",
     "iopub.status.busy": "2021-10-12T18:25:44.055600Z",
     "iopub.status.idle": "2021-10-12T18:25:44.058798Z",
     "shell.execute_reply": "2021-10-12T18:25:44.058246Z"
    },
    "papermill": {
     "duration": 0.058052,
     "end_time": "2021-10-12T18:25:44.058948",
     "exception": false,
     "start_time": "2021-10-12T18:25:44.000896",
     "status": "completed"
    },
    "tags": []
   },
   "outputs": [],
   "source": [
    "# from sklearn.linear_model import LogisticRegression\n",
    "# clf = LogisticRegression()\n",
    "# pipe = make_pipeline(col_trans,\n",
    "#                      col_trans_1,\n",
    "#                      vt,\n",
    "#                     clf)\n",
    "# param_grid={\n",
    "\n",
    "# }\n",
    "# search = GridSearchCV(pipe, param_grid, cv=5)\n",
    "# search.fit(xtrain, ytrain)\n",
    "# search.best_score_"
   ]
  },
  {
   "cell_type": "code",
   "execution_count": 29,
   "id": "36cf209f",
   "metadata": {
    "execution": {
     "iopub.execute_input": "2021-10-12T18:25:44.165396Z",
     "iopub.status.busy": "2021-10-12T18:25:44.164759Z",
     "iopub.status.idle": "2021-10-12T18:25:44.168878Z",
     "shell.execute_reply": "2021-10-12T18:25:44.168315Z"
    },
    "papermill": {
     "duration": 0.058124,
     "end_time": "2021-10-12T18:25:44.169018",
     "exception": false,
     "start_time": "2021-10-12T18:25:44.110894",
     "status": "completed"
    },
    "tags": []
   },
   "outputs": [],
   "source": [
    "# from sklearn.neighbors import KNeighborsClassifier\n",
    "# clf = KNeighborsClassifier()\n",
    "# pipe = make_pipeline(col_trans,\n",
    "#                      col_trans_1,\n",
    "#                      vt,\n",
    "#                     clf)\n",
    "# param_grid={\n",
    "\n",
    "# }\n",
    "# search = GridSearchCV(pipe, param_grid, cv=5)\n",
    "# search.fit(xtrain, ytrain)\n",
    "# search.best_score_"
   ]
  },
  {
   "cell_type": "code",
   "execution_count": 30,
   "id": "e47e5328",
   "metadata": {
    "execution": {
     "iopub.execute_input": "2021-10-12T18:25:44.299063Z",
     "iopub.status.busy": "2021-10-12T18:25:44.298038Z",
     "iopub.status.idle": "2021-10-12T18:25:44.301583Z",
     "shell.execute_reply": "2021-10-12T18:25:44.302296Z"
    },
    "papermill": {
     "duration": 0.074051,
     "end_time": "2021-10-12T18:25:44.302547",
     "exception": false,
     "start_time": "2021-10-12T18:25:44.228496",
     "status": "completed"
    },
    "tags": []
   },
   "outputs": [],
   "source": [
    "# from sklearn. import \n",
    "# clf = ()\n",
    "# pipe = make_pipeline(col_trans,\n",
    "#                      col_trans_1,\n",
    "#                      vt,\n",
    "#                     clf)\n",
    "# param_grid={\n",
    "\n",
    "# }\n",
    "# search = GridSearchCV(pipe, param_grid, cv=5)\n",
    "# search.fit(xtrain, ytrain)\n",
    "# search.best_score_"
   ]
  },
  {
   "cell_type": "code",
   "execution_count": 31,
   "id": "13c88173",
   "metadata": {
    "execution": {
     "iopub.execute_input": "2021-10-12T18:25:44.423294Z",
     "iopub.status.busy": "2021-10-12T18:25:44.422616Z",
     "iopub.status.idle": "2021-10-12T18:25:44.704429Z",
     "shell.execute_reply": "2021-10-12T18:25:44.703795Z",
     "shell.execute_reply.started": "2021-10-12T18:21:18.264498Z"
    },
    "papermill": {
     "duration": 0.344563,
     "end_time": "2021-10-12T18:25:44.704587",
     "exception": false,
     "start_time": "2021-10-12T18:25:44.360024",
     "status": "completed"
    },
    "tags": []
   },
   "outputs": [
    {
     "data": {
      "text/plain": [
       "0.8202783077095726"
      ]
     },
     "execution_count": 31,
     "metadata": {},
     "output_type": "execute_result"
    }
   ],
   "source": [
    "from sklearn.svm import SVC\n",
    "clf = SVC()\n",
    "pipe = make_pipeline(col_trans,\n",
    "                     col_trans_1,\n",
    "                     vt,\n",
    "                    clf)\n",
    "param_grid={\n",
    "\n",
    "}\n",
    "search = GridSearchCV(pipe, param_grid, cv=5)\n",
    "search.fit(xtrain, ytrain)\n",
    "search.best_score_"
   ]
  },
  {
   "cell_type": "code",
   "execution_count": 32,
   "id": "17053384",
   "metadata": {
    "execution": {
     "iopub.execute_input": "2021-10-12T18:25:44.812938Z",
     "iopub.status.busy": "2021-10-12T18:25:44.812189Z",
     "iopub.status.idle": "2021-10-12T18:25:44.815462Z",
     "shell.execute_reply": "2021-10-12T18:25:44.814884Z"
    },
    "papermill": {
     "duration": 0.060362,
     "end_time": "2021-10-12T18:25:44.815617",
     "exception": false,
     "start_time": "2021-10-12T18:25:44.755255",
     "status": "completed"
    },
    "tags": []
   },
   "outputs": [],
   "source": [
    "# from sklearn.naive_bayes import GaussianNB\n",
    "# clf = GaussianNB()\n",
    "# pipe = make_pipeline(col_trans,\n",
    "#                      col_trans_1,\n",
    "#                      vt,\n",
    "#                     clf)\n",
    "# param_grid={\n",
    "\n",
    "# }\n",
    "# search = GridSearchCV(pipe, param_grid, cv=5)\n",
    "# search.fit(xtrain, ytrain)\n",
    "# search.best_score_"
   ]
  },
  {
   "cell_type": "code",
   "execution_count": 33,
   "id": "a64a7107",
   "metadata": {
    "execution": {
     "iopub.execute_input": "2021-10-12T18:25:44.922750Z",
     "iopub.status.busy": "2021-10-12T18:25:44.922066Z",
     "iopub.status.idle": "2021-10-12T18:25:44.925696Z",
     "shell.execute_reply": "2021-10-12T18:25:44.925174Z"
    },
    "papermill": {
     "duration": 0.059196,
     "end_time": "2021-10-12T18:25:44.925873",
     "exception": false,
     "start_time": "2021-10-12T18:25:44.866677",
     "status": "completed"
    },
    "tags": []
   },
   "outputs": [],
   "source": [
    "# from sklearn.ensemble import AdaBoostClassifier\n",
    "# clf = AdaBoostClassifier()\n",
    "# pipe = make_pipeline(col_trans,\n",
    "#                      col_trans_1,\n",
    "#                      vt,\n",
    "#                     clf)\n",
    "# param_grid={\n",
    "\n",
    "# }\n",
    "# search = GridSearchCV(pipe, param_grid, cv=5)\n",
    "# search.fit(xtrain, ytrain)\n",
    "# search.best_score_"
   ]
  },
  {
   "cell_type": "code",
   "execution_count": 34,
   "id": "57d7ad4b",
   "metadata": {
    "execution": {
     "iopub.execute_input": "2021-10-12T18:25:45.032479Z",
     "iopub.status.busy": "2021-10-12T18:25:45.031774Z",
     "iopub.status.idle": "2021-10-12T18:25:45.035633Z",
     "shell.execute_reply": "2021-10-12T18:25:45.035059Z"
    },
    "papermill": {
     "duration": 0.058934,
     "end_time": "2021-10-12T18:25:45.035805",
     "exception": false,
     "start_time": "2021-10-12T18:25:44.976871",
     "status": "completed"
    },
    "tags": []
   },
   "outputs": [],
   "source": [
    "# from sklearn.ensemble import ExtraTreesClassifier\n",
    "# clf = ExtraTreesClassifier()\n",
    "# pipe = make_pipeline(col_trans,\n",
    "#                      col_trans_1,\n",
    "#                      vt,\n",
    "#                     clf)\n",
    "# param_grid={\n",
    "\n",
    "# }\n",
    "# search = GridSearchCV(pipe, param_grid, cv=5)\n",
    "# search.fit(xtrain, ytrain)\n",
    "# search.best_score_"
   ]
  },
  {
   "cell_type": "code",
   "execution_count": 35,
   "id": "ec6e4479",
   "metadata": {
    "execution": {
     "iopub.execute_input": "2021-10-12T18:25:45.143286Z",
     "iopub.status.busy": "2021-10-12T18:25:45.142320Z",
     "iopub.status.idle": "2021-10-12T18:25:45.146209Z",
     "shell.execute_reply": "2021-10-12T18:25:45.145533Z"
    },
    "papermill": {
     "duration": 0.059502,
     "end_time": "2021-10-12T18:25:45.146363",
     "exception": false,
     "start_time": "2021-10-12T18:25:45.086861",
     "status": "completed"
    },
    "tags": []
   },
   "outputs": [],
   "source": [
    "# from sklearn.ensemble import BaggingClassifier\n",
    "# clf = BaggingClassifier()\n",
    "# pipe = make_pipeline(col_trans,\n",
    "#                      col_trans_1,\n",
    "#                      vt,\n",
    "#                     clf)\n",
    "# param_grid={\n",
    "\n",
    "# }\n",
    "# search = GridSearchCV(pipe, param_grid, cv=5)\n",
    "# search.fit(xtrain, ytrain)\n",
    "# search.best_score_"
   ]
  },
  {
   "cell_type": "code",
   "execution_count": 36,
   "id": "2d2b95f2",
   "metadata": {
    "execution": {
     "iopub.execute_input": "2021-10-12T18:25:45.254424Z",
     "iopub.status.busy": "2021-10-12T18:25:45.253683Z",
     "iopub.status.idle": "2021-10-12T18:25:45.256569Z",
     "shell.execute_reply": "2021-10-12T18:25:45.255854Z"
    },
    "papermill": {
     "duration": 0.058973,
     "end_time": "2021-10-12T18:25:45.256755",
     "exception": false,
     "start_time": "2021-10-12T18:25:45.197782",
     "status": "completed"
    },
    "tags": []
   },
   "outputs": [],
   "source": [
    "# from sklearn.ensemble import GradientBoostingClassifier\n",
    "# clf = GradientBoostingClassifier()\n",
    "# pipe = make_pipeline(col_trans,\n",
    "#                      col_trans_1,\n",
    "#                      vt,\n",
    "#                     clf)\n",
    "# param_grid={\n",
    "\n",
    "# }\n",
    "# search = GridSearchCV(pipe, param_grid, cv=5)\n",
    "# search.fit(xtrain, ytrain)\n",
    "# search.best_score_"
   ]
  },
  {
   "cell_type": "code",
   "execution_count": 37,
   "id": "7c5e03e0",
   "metadata": {
    "execution": {
     "iopub.execute_input": "2021-10-12T18:25:45.362614Z",
     "iopub.status.busy": "2021-10-12T18:25:45.361959Z",
     "iopub.status.idle": "2021-10-12T18:25:45.365440Z",
     "shell.execute_reply": "2021-10-12T18:25:45.365977Z"
    },
    "papermill": {
     "duration": 0.058005,
     "end_time": "2021-10-12T18:25:45.366187",
     "exception": false,
     "start_time": "2021-10-12T18:25:45.308182",
     "status": "completed"
    },
    "tags": []
   },
   "outputs": [],
   "source": [
    "# from sklearn.tree import DecisionTreeClassifier\n",
    "# clf = DecisionTreeClassifier()\n",
    "# pipe = make_pipeline(col_trans,\n",
    "#                      col_trans_1,\n",
    "#                      vt,\n",
    "#                     clf)\n",
    "# param_grid={\n",
    "\n",
    "# }\n",
    "# search = GridSearchCV(pipe, param_grid, cv=5)\n",
    "# search.fit(xtrain, ytrain)\n",
    "# search.best_score_"
   ]
  },
  {
   "cell_type": "code",
   "execution_count": 38,
   "id": "bd3f08e3",
   "metadata": {
    "execution": {
     "iopub.execute_input": "2021-10-12T18:25:45.471436Z",
     "iopub.status.busy": "2021-10-12T18:25:45.470743Z",
     "iopub.status.idle": "2021-10-12T18:25:45.474961Z",
     "shell.execute_reply": "2021-10-12T18:25:45.474248Z"
    },
    "papermill": {
     "duration": 0.057963,
     "end_time": "2021-10-12T18:25:45.475123",
     "exception": false,
     "start_time": "2021-10-12T18:25:45.417160",
     "status": "completed"
    },
    "tags": []
   },
   "outputs": [],
   "source": [
    "# from sklearn.tree import ExtraTreeClassifier\n",
    "# clf = ExtraTreeClassifier()\n",
    "# pipe = make_pipeline(col_trans,\n",
    "#                      col_trans_1,\n",
    "#                      vt,\n",
    "#                     clf)\n",
    "# param_grid={\n",
    "\n",
    "# }\n",
    "# search = GridSearchCV(pipe, param_grid, cv=5)\n",
    "# search.fit(xtrain, ytrain)\n",
    "# search.best_score_"
   ]
  },
  {
   "cell_type": "code",
   "execution_count": 39,
   "id": "38ca4b8a",
   "metadata": {
    "execution": {
     "iopub.execute_input": "2021-10-12T18:25:45.589355Z",
     "iopub.status.busy": "2021-10-12T18:25:45.588594Z",
     "iopub.status.idle": "2021-10-12T18:25:45.934633Z",
     "shell.execute_reply": "2021-10-12T18:25:45.933889Z",
     "shell.execute_reply.started": "2021-10-12T18:24:30.723247Z"
    },
    "papermill": {
     "duration": 0.407207,
     "end_time": "2021-10-12T18:25:45.934823",
     "exception": false,
     "start_time": "2021-10-12T18:25:45.527616",
     "status": "completed"
    },
    "tags": []
   },
   "outputs": [
    {
     "data": {
      "text/plain": [
       "0.8247559196498709"
      ]
     },
     "execution_count": 39,
     "metadata": {},
     "output_type": "execute_result"
    }
   ],
   "source": [
    "# clf = RandomForestClassifier(n_estimators=100, max_depth=3, random_state=2)\n",
    "clf = RandomForestClassifier(max_depth=5, n_estimators=10)\n",
    "pipe = make_pipeline(col_trans,\n",
    "                     col_trans_1,\n",
    "                     vt,\n",
    "                    clf)\n",
    "search = GridSearchCV(pipe, {})\n",
    "search.fit(xtrain, ytrain)\n",
    "search.best_score_"
   ]
  },
  {
   "cell_type": "code",
   "execution_count": 40,
   "id": "40b763a4",
   "metadata": {
    "execution": {
     "iopub.execute_input": "2021-10-12T18:25:46.051912Z",
     "iopub.status.busy": "2021-10-12T18:25:46.051182Z",
     "iopub.status.idle": "2021-10-12T18:25:46.130087Z",
     "shell.execute_reply": "2021-10-12T18:25:46.129436Z",
     "shell.execute_reply.started": "2021-10-12T18:21:31.391359Z"
    },
    "papermill": {
     "duration": 0.143365,
     "end_time": "2021-10-12T18:25:46.130250",
     "exception": false,
     "start_time": "2021-10-12T18:25:45.986885",
     "status": "completed"
    },
    "tags": []
   },
   "outputs": [],
   "source": [
    "best_model = search.best_estimator_\n",
    "best_model.fit(x, y)\n",
    "pred = best_model.predict(test_data)\n",
    "\n",
    "index = pd.read_csv(\"/kaggle/input/titanic/test.csv\")[\"PassengerId\"]\n",
    "my_submission = pd.DataFrame({'PassengerId': index, \"Survived\": pred})\n",
    "my_submission.to_csv('submission.csv', index=False)"
   ]
  },
  {
   "cell_type": "code",
   "execution_count": null,
   "id": "97ddf3c1",
   "metadata": {
    "papermill": {
     "duration": 0.050784,
     "end_time": "2021-10-12T18:25:46.232216",
     "exception": false,
     "start_time": "2021-10-12T18:25:46.181432",
     "status": "completed"
    },
    "tags": []
   },
   "outputs": [],
   "source": []
  }
 ],
 "metadata": {
  "kernelspec": {
   "display_name": "Python 3",
   "language": "python",
   "name": "python3"
  },
  "language_info": {
   "codemirror_mode": {
    "name": "ipython",
    "version": 3
   },
   "file_extension": ".py",
   "mimetype": "text/x-python",
   "name": "python",
   "nbconvert_exporter": "python",
   "pygments_lexer": "ipython3",
   "version": "3.7.10"
  },
  "papermill": {
   "default_parameters": {},
   "duration": 55.945483,
   "end_time": "2021-10-12T18:25:47.770959",
   "environment_variables": {},
   "exception": null,
   "input_path": "__notebook__.ipynb",
   "output_path": "__notebook__.ipynb",
   "parameters": {},
   "start_time": "2021-10-12T18:24:51.825476",
   "version": "2.3.3"
  }
 },
 "nbformat": 4,
 "nbformat_minor": 5
}
